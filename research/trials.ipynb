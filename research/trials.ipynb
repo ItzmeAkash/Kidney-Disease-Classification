{
 "cells": [
  {
   "cell_type": "markdown",
   "metadata": {},
   "source": [
    "## Download Data From gdrive"
   ]
  },
  {
   "cell_type": "code",
   "execution_count": 1,
   "metadata": {},
   "outputs": [],
   "source": [
    "import gdown"
   ]
  },
  {
   "cell_type": "code",
   "execution_count": 2,
   "metadata": {},
   "outputs": [],
   "source": [
    "url = \"https://drive.google.com/file/d/1NGlWlZmoEDjrNYMjc-9OgIwuebY68wDh/view?usp=sharing\"\n"
   ]
  },
  {
   "cell_type": "code",
   "execution_count": 3,
   "metadata": {},
   "outputs": [],
   "source": [
    "fileid = url.split(\"/\")[-2]"
   ]
  },
  {
   "cell_type": "code",
   "execution_count": 4,
   "metadata": {},
   "outputs": [
    {
     "name": "stdout",
     "output_type": "stream",
     "text": [
      "1NGlWlZmoEDjrNYMjc-9OgIwuebY68wDh\n"
     ]
    }
   ],
   "source": [
    "print(fileid)"
   ]
  },
  {
   "cell_type": "code",
   "execution_count": 5,
   "metadata": {},
   "outputs": [
    {
     "name": "stderr",
     "output_type": "stream",
     "text": [
      "Downloading...\n",
      "From (uriginal): https://drive.google.com/uc?/export=download&id=1NGlWlZmoEDjrNYMjc-9OgIwuebY68wDh\n",
      "From (redirected): https://drive.google.com/uc?/export=download&id=1NGlWlZmoEDjrNYMjc-9OgIwuebY68wDh&confirm=t&uuid=9a1467b2-e070-47cc-9c72-a75ea6a26a95\n",
      "To: d:\\Nikku\\End to End Project\\Kidney-Disease-Classification\\research\\Ct-Scan-data.zip\n",
      "100%|██████████| 1.63G/1.63G [06:42<00:00, 4.04MB/s]\n"
     ]
    },
    {
     "data": {
      "text/plain": [
       "'Ct-Scan-data.zip'"
      ]
     },
     "execution_count": 5,
     "metadata": {},
     "output_type": "execute_result"
    }
   ],
   "source": [
    "prefix = 'https://drive.google.com/uc?/export=download&id='\n",
    "\n",
    "gdown.download(prefix+fileid,\"Ct-Scan-data.zip\")"
   ]
  }
 ],
 "metadata": {
  "kernelspec": {
   "display_name": "kidney",
   "language": "python",
   "name": "python3"
  },
  "language_info": {
   "codemirror_mode": {
    "name": "ipython",
    "version": 3
   },
   "file_extension": ".py",
   "mimetype": "text/x-python",
   "name": "python",
   "nbconvert_exporter": "python",
   "pygments_lexer": "ipython3",
   "version": "3.8.18"
  }
 },
 "nbformat": 4,
 "nbformat_minor": 2
}
